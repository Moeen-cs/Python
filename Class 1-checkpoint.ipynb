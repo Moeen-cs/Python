{
 "cells": [
  {
   "cell_type": "code",
   "execution_count": 1,
   "metadata": {
    "scrolled": true
   },
   "outputs": [
    {
     "name": "stdout",
     "output_type": "stream",
     "text": [
      "Pakistan Zindabad\n"
     ]
    }
   ],
   "source": [
    "print(\"Pakistan Zindabad\")"
   ]
  },
  {
   "cell_type": "code",
   "execution_count": 9,
   "metadata": {},
   "outputs": [
    {
     "name": "stdout",
     "output_type": "stream",
     "text": [
      "hello jani\n",
      "Class 1\n"
     ]
    }
   ],
   "source": [
    "print(\"hello jani\")\n",
    "print(\"Class 1\")"
   ]
  },
  {
   "cell_type": "markdown",
   "metadata": {},
   "source": [
    "# Bahria university university\n",
    "\n",
    "12:15 to 3:15"
   ]
  },
  {
   "cell_type": "code",
   "execution_count": 17,
   "metadata": {},
   "outputs": [
    {
     "ename": "SyntaxError",
     "evalue": "invalid syntax (<ipython-input-17-5032d7af423c>, line 1)",
     "output_type": "error",
     "traceback": [
      "\u001b[1;36m  File \u001b[1;32m\"<ipython-input-17-5032d7af423c>\"\u001b[1;36m, line \u001b[1;32m1\u001b[0m\n\u001b[1;33m    int abc (a, b)\u001b[0m\n\u001b[1;37m          ^\u001b[0m\n\u001b[1;31mSyntaxError\u001b[0m\u001b[1;31m:\u001b[0m invalid syntax\n"
     ]
    }
   ],
   "source": [
    "int abc (a, b)\n",
    "{\n",
    "    return a+b\n",
    "}"
   ]
  },
  {
   "cell_type": "code",
   "execution_count": 20,
   "metadata": {},
   "outputs": [
    {
     "name": "stdout",
     "output_type": "stream",
     "text": [
      "True\n"
     ]
    }
   ],
   "source": [
    "a = 5\n",
    "b = 10\n",
    "summ = a+b\n",
    "a = True\n",
    "print(a)"
   ]
  },
  {
   "cell_type": "code",
   "execution_count": 22,
   "metadata": {},
   "outputs": [
    {
     "name": "stdout",
     "output_type": "stream",
     "text": [
      "\n",
      "Piaic skdjfkjfs\n",
      "name : Moin Shah\n",
      "father name : Tariq Shah\n",
      "University : Bahria Unityversity\n",
      "\n"
     ]
    }
   ],
   "source": [
    "name = \"Moin Shah\"\n",
    "Father_name = \"Tariq Shah\"\n",
    "University = \"Bahria Unityversity\"\n",
    "massage =\"\"\"\n",
    "Piaic skdjfkjfs\n",
    "name : {}\n",
    "father name : {}\n",
    "University : {}\n",
    "\"\"\"\n",
    "massage1 = massage.format(name, Father_name, University)\n",
    "print(massage1)"
   ]
  },
  {
   "cell_type": "code",
   "execution_count": 1,
   "metadata": {},
   "outputs": [
    {
     "ename": "SyntaxError",
     "evalue": "invalid syntax (<ipython-input-1-b77d55d4a2f2>, line 5)",
     "output_type": "error",
     "traceback": [
      "\u001b[1;36m  File \u001b[1;32m\"<ipython-input-1-b77d55d4a2f2>\"\u001b[1;36m, line \u001b[1;32m5\u001b[0m\n\u001b[1;33m    for(i=0;i<5;i++)\u001b[0m\n\u001b[1;37m         ^\u001b[0m\n\u001b[1;31mSyntaxError\u001b[0m\u001b[1;31m:\u001b[0m invalid syntax\n"
     ]
    }
   ],
   "source": [
    "name = input(\"Enter your name \")\n",
    "Father_name = input(\"Father name \")\n",
    "University = input(\"Unityversity name \")\n",
    "Subj[5];\n",
    "for(i=0;i<5;i++)\n",
    "subj[i]=0;\n",
    "Subj[0] = input(\"Subject 1\")\n",
    "Subj[1] = input(\"Subject 2\")\n",
    "Subj[2] = input(\"Subject 3\")\n",
    "Subj[3] = input(\"Subject 4\")\n",
    "Subj[4] = input(\"Subject 5\")\n",
    "for(i=0;i<5;i++)\n",
    "sum = sum+subj[i];\n",
    "Diveder = Sum/5\n",
    "Percentage = Diveder * 100;\n",
    "massage =\"\"\"\n",
    "University : {}\n",
    "name : {}\n",
    "father name : {}\n",
    "Subject 1 : {}\n",
    "Subject 2 : {}\n",
    "Subject 3 : {}\n",
    "Subject 4 : {}\n",
    "Subject 5 : {}\n",
    "percentage : {}\n",
    "\"\"\"\n",
    "\n",
    "print(massage)"
   ]
  },
  {
   "cell_type": "code",
   "execution_count": null,
   "metadata": {},
   "outputs": [],
   "source": []
  }
 ],
 "metadata": {
  "kernelspec": {
   "display_name": "Python 3",
   "language": "python",
   "name": "python3"
  },
  "language_info": {
   "codemirror_mode": {
    "name": "ipython",
    "version": 3
   },
   "file_extension": ".py",
   "mimetype": "text/x-python",
   "name": "python",
   "nbconvert_exporter": "python",
   "pygments_lexer": "ipython3",
   "version": "3.7.4"
  }
 },
 "nbformat": 4,
 "nbformat_minor": 2
}
