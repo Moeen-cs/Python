{
 "cells": [
  {
   "cell_type": "markdown",
   "metadata": {},
   "source": [
    "# Functions"
   ]
  },
  {
   "cell_type": "markdown",
   "metadata": {},
   "source": [
    "# Predefine Function"
   ]
  },
  {
   "cell_type": "markdown",
   "metadata": {},
   "source": [
    "# User Define Function"
   ]
  },
  {
   "cell_type": "code",
   "execution_count": 1,
   "metadata": {},
   "outputs": [
    {
     "name": "stdout",
     "output_type": "stream",
     "text": [
      "Pakistan\n",
      "We are Pakistani\n",
      "We love our country\n",
      "Pakistan\n",
      "We are Pakistani\n",
      "We love our country\n"
     ]
    }
   ],
   "source": [
    "#without argument function\n",
    "def abc():\n",
    "    #Starting body of function\n",
    "    print(\"Pakistan\")\n",
    "    print(\"We are Pakistani\")\n",
    "    print(\"We love our country\")\n",
    "    #End body of function\n",
    "abc()\n",
    "abc()"
   ]
  },
  {
   "cell_type": "markdown",
   "metadata": {},
   "source": [
    "# Argument Required Function"
   ]
  },
  {
   "cell_type": "code",
   "execution_count": 3,
   "metadata": {},
   "outputs": [
    {
     "name": "stdout",
     "output_type": "stream",
     "text": [
      "\n",
      "    PIAIC Islamabd\n",
      "    student id: 123\n",
      "    Student name: Moin\n",
      "    Father name: Tariq\n",
      "    Course name: AI\n",
      "    Course Timing: 12:30\n",
      "    \n"
     ]
    }
   ],
   "source": [
    "def id_Card(sid, name, fname, course, timing):\n",
    "    print(f\"\"\"\n",
    "    PIAIC Islamabd\n",
    "    student id: {sid}\n",
    "    Student name: {name}\n",
    "    Father name: {fname}\n",
    "    Course name: {course}\n",
    "    Course Timing: {timing}\n",
    "    \"\"\"\n",
    "    )\n",
    "id_Card(123,\"Moin\",\"Tariq\",\"AI\",\"12:30\")"
   ]
  },
  {
   "cell_type": "code",
   "execution_count": null,
   "metadata": {},
   "outputs": [],
   "source": [
    "data = [[1,'a','b','c','d'],\n",
    "       [2,'e','f','g','h'],\n",
    "       [3,'i','j','k','l']]\n"
   ]
  },
  {
   "cell_type": "markdown",
   "metadata": {},
   "source": [
    "# optional Argument"
   ]
  },
  {
   "cell_type": "code",
   "execution_count": null,
   "metadata": {},
   "outputs": [],
   "source": []
  },
  {
   "cell_type": "code",
   "execution_count": 8,
   "metadata": {},
   "outputs": [
    {
     "name": "stdout",
     "output_type": "stream",
     "text": [
      "5 0 0\n",
      "5\n",
      "2 4 0\n",
      "6\n"
     ]
    }
   ],
   "source": [
    "#we give any defoult value to the optional argument\n",
    "def pl(x,y=0,z=0):\n",
    "    print(x,y,z)\n",
    "    print(x+y+z)\n",
    "pl(5)\n",
    "pl(2,4)"
   ]
  },
  {
   "cell_type": "markdown",
   "metadata": {},
   "source": [
    "# Non Return Function"
   ]
  },
  {
   "cell_type": "code",
   "execution_count": 12,
   "metadata": {},
   "outputs": [
    {
     "name": "stdout",
     "output_type": "stream",
     "text": [
      "Pakistna\n",
      "None\n"
     ]
    }
   ],
   "source": [
    "a = print(\"Pakistna\")\n",
    "print(a)"
   ]
  },
  {
   "cell_type": "code",
   "execution_count": 15,
   "metadata": {},
   "outputs": [
    {
     "name": "stdout",
     "output_type": "stream",
     "text": [
      "\n",
      "    PIAIC Islamabd\n",
      "    student id: 123\n",
      "    Student name: Moin\n",
      "    Father name: Tariq\n",
      "    Course name: AI\n",
      "    Course Timing: 12:30\n",
      "    \n",
      "None\n"
     ]
    }
   ],
   "source": [
    "def id_Card(sid, name, fname, course, timing):\n",
    "    print(f\"\"\"\n",
    "    PIAIC Islamabd\n",
    "    student id: {sid}\n",
    "    Student name: {name}\n",
    "    Father name: {fname}\n",
    "    Course name: {course}\n",
    "    Course Timing: {timing}\n",
    "    \"\"\"\n",
    "    ) \n",
    "a =id_Card(123,\"Moin\",\"Tariq\",\"AI\",\"12:30\")\n",
    "print(a)"
   ]
  },
  {
   "cell_type": "markdown",
   "metadata": {},
   "source": [
    "# Return Function"
   ]
  },
  {
   "cell_type": "code",
   "execution_count": 17,
   "metadata": {},
   "outputs": [
    {
     "name": "stdout",
     "output_type": "stream",
     "text": [
      "17\n",
      "17\n"
     ]
    }
   ],
   "source": [
    "#we give any defoult value to the optional argument\n",
    "def pl(x,y=0,z=0):\n",
    "    s=x+y+z\n",
    "    print(s)\n",
    "    return s\n",
    "su=pl(5,5,7)\n",
    "print(su)"
   ]
  },
  {
   "cell_type": "code",
   "execution_count": 18,
   "metadata": {},
   "outputs": [
    {
     "name": "stdout",
     "output_type": "stream",
     "text": [
      "\n",
      "    PIAIC Islamabd\n",
      "    student id: 123\n",
      "    Student name: Moin\n",
      "    Father name: Tariq\n",
      "    Course name: AI\n",
      "    Course Timing: 12:30\n",
      "    \n"
     ]
    }
   ],
   "source": [
    "def id_Card(sid, name, fname, course, timing):\n",
    "    return f\"\"\"\n",
    "    PIAIC Islamabd\n",
    "    student id: {sid}\n",
    "    Student name: {name}\n",
    "    Father name: {fname}\n",
    "    Course name: {course}\n",
    "    Course Timing: {timing}\n",
    "    \"\"\"\n",
    "a =id_Card(123,\"Moin\",\"Tariq\",\"AI\",\"12:30\")\n",
    "print(a)"
   ]
  },
  {
   "cell_type": "code",
   "execution_count": 20,
   "metadata": {},
   "outputs": [
    {
     "name": "stdout",
     "output_type": "stream",
     "text": [
      "(17, 32)\n"
     ]
    }
   ],
   "source": [
    "#Multiple return function\n",
    "def pl(x,y=0,z=0):\n",
    "    return x+y+z, x*y+z\n",
    "su=pl(5,5,7)\n",
    "print(su)"
   ]
  },
  {
   "cell_type": "markdown",
   "metadata": {},
   "source": [
    "# Positionlan Argument"
   ]
  },
  {
   "cell_type": "code",
   "execution_count": 22,
   "metadata": {},
   "outputs": [
    {
     "name": "stdout",
     "output_type": "stream",
     "text": [
      "\n",
      "    PIAIC Islamabd\n",
      "    student id: 123\n",
      "    Student name: Moin\n",
      "    Father name: Tariq\n",
      "    Course name: AI\n",
      "    Course Timing: 12:30\n",
      "    \n"
     ]
    }
   ],
   "source": [
    "#To solve the bug in function argument we use Keyword argumnet\n",
    "\n",
    "def id_Card(sid, name, fname, course, timing):\n",
    "    print(f\"\"\"\n",
    "    PIAIC Islamabd\n",
    "    student id: {sid}\n",
    "    Student name: {name}\n",
    "    Father name: {fname}\n",
    "    Course name: {course}\n",
    "    Course Timing: {timing}\n",
    "    \"\"\"\n",
    "    )\n",
    "id_Card(sid=123,course=\"AI\",fname=\"Tariq\",name=\"Moin\",timing=\"12:30\")"
   ]
  },
  {
   "cell_type": "code",
   "execution_count": null,
   "metadata": {},
   "outputs": [],
   "source": []
  }
 ],
 "metadata": {
  "kernelspec": {
   "display_name": "Python 3",
   "language": "python",
   "name": "python3"
  },
  "language_info": {
   "codemirror_mode": {
    "name": "ipython",
    "version": 3
   },
   "file_extension": ".py",
   "mimetype": "text/x-python",
   "name": "python",
   "nbconvert_exporter": "python",
   "pygments_lexer": "ipython3",
   "version": "3.7.4"
  }
 },
 "nbformat": 4,
 "nbformat_minor": 2
}
