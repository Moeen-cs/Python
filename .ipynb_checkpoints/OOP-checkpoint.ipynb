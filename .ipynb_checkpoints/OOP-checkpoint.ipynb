{
 "cells": [
  {
   "cell_type": "markdown",
   "metadata": {},
   "source": [
    "# OPP\n",
    "in same class same name fuction more then one time use with differnt parameter: function overloading"
   ]
  },
  {
   "cell_type": "code",
   "execution_count": null,
   "metadata": {},
   "outputs": [],
   "source": [
    "s1name = \"A\"\n",
    "Sffname = \"FN\"\n",
    "s1age = 25\n",
    "\n",
    "def sqlogin:pass\n",
    "def silogout():pass\n",
    "def S1quiz():pass"
   ]
  },
  {
   "cell_type": "code",
   "execution_count": 2,
   "metadata": {},
   "outputs": [],
   "source": [
    "class Student():\n",
    "    pass \n",
    "s1 = Student()"
   ]
  },
  {
   "cell_type": "markdown",
   "metadata": {},
   "source": [
    "# Mathods And Atributes"
   ]
  },
  {
   "cell_type": "code",
   "execution_count": 8,
   "metadata": {},
   "outputs": [
    {
     "name": "stdout",
     "output_type": "stream",
     "text": [
      "A B C\n",
      "welcome moin\n"
     ]
    }
   ],
   "source": [
    "class Student():\n",
    "    def __init__(self,sid): #constructor:self is compulsory but will be ignored while calling\n",
    "        self.id = sid\n",
    "        self.name = \"\"\n",
    "        \n",
    "    def login(self,user,password):\n",
    "        self.name = user\n",
    "        print(\"welcome\",self.name)\n",
    "        \n",
    "    def logout(self):\n",
    "        print(\"logout\")\n",
    "\n",
    "s1 = Student(1)\n",
    "s2 = Student(2)\n",
    "s3 = Student(3)\n",
    "s1.name = \"A\"\n",
    "s2.name = \"B\"\n",
    "s3.name = \"C\"\n",
    "print(s1.name,s2.name,s3.name)\n",
    "\n",
    "s1.login(\"moin\",1234)"
   ]
  },
  {
   "cell_type": "markdown",
   "metadata": {},
   "source": [
    "# class variable"
   ]
  },
  {
   "cell_type": "code",
   "execution_count": 12,
   "metadata": {},
   "outputs": [
    {
     "name": "stdout",
     "output_type": "stream",
     "text": [
      "8\n",
      "7\n",
      "welcome moin\n"
     ]
    }
   ],
   "source": [
    "class Student():\n",
    "    count = 5\n",
    "    def __init__(self,sid): #constructor:self is compulsory but will be ignored while calling\n",
    "        self.id = sid\n",
    "        self.name = \"\"\n",
    "        Student.count +=1;\n",
    "        self.serial_no = Student.count\n",
    "        \n",
    "    def login(self,user,password):\n",
    "        self.name = user\n",
    "        print(\"welcome\",self.name)\n",
    "        \n",
    "    def logout(self):\n",
    "        print(\"logout\")\n",
    "\n",
    "s1 = Student(1)\n",
    "s2 = Student(2)\n",
    "s3 = Student(3)\n",
    "\n",
    "print(s3.count)\n",
    "print(s2.serial_no);\n",
    "s1.login(\"moin\",1234)"
   ]
  },
  {
   "cell_type": "markdown",
   "metadata": {},
   "source": [
    "# Inheritence"
   ]
  },
  {
   "cell_type": "code",
   "execution_count": 16,
   "metadata": {},
   "outputs": [
    {
     "ename": "NameError",
     "evalue": "name 'parint' is not defined",
     "output_type": "error",
     "traceback": [
      "\u001b[1;31m---------------------------------------------------------------------------\u001b[0m",
      "\u001b[1;31mNameError\u001b[0m                                 Traceback (most recent call last)",
      "\u001b[1;32m<ipython-input-16-1dca94f8a789>\u001b[0m in \u001b[0;36m<module>\u001b[1;34m\u001b[0m\n\u001b[0;32m     15\u001b[0m \u001b[1;33m\u001b[0m\u001b[0m\n\u001b[0;32m     16\u001b[0m \u001b[0mp1\u001b[0m \u001b[1;33m=\u001b[0m \u001b[0mParent\u001b[0m\u001b[1;33m(\u001b[0m\u001b[1;33m)\u001b[0m\u001b[1;33m\u001b[0m\u001b[1;33m\u001b[0m\u001b[0m\n\u001b[1;32m---> 17\u001b[1;33m \u001b[0mparint\u001b[0m\u001b[1;33m(\u001b[0m\u001b[0mp1\u001b[0m\u001b[1;33m.\u001b[0m\u001b[0meat\u001b[0m\u001b[1;33m(\u001b[0m\u001b[1;33m)\u001b[0m\u001b[1;33m)\u001b[0m\u001b[1;33m\u001b[0m\u001b[1;33m\u001b[0m\u001b[0m\n\u001b[0m\u001b[0;32m     18\u001b[0m \u001b[1;33m\u001b[0m\u001b[0m\n\u001b[0;32m     19\u001b[0m \u001b[0mc1\u001b[0m \u001b[1;33m=\u001b[0m \u001b[0mchild\u001b[0m\u001b[1;33m(\u001b[0m\u001b[1;33m)\u001b[0m\u001b[1;33m\u001b[0m\u001b[1;33m\u001b[0m\u001b[0m\n",
      "\u001b[1;31mNameError\u001b[0m: name 'parint' is not defined"
     ]
    }
   ],
   "source": [
    "class Parent():\n",
    "    def __init__(self): #constructor:self is compulsory but will be ignored while calling\n",
    "        self.name = \"pn\"\n",
    "        self.id = 0\n",
    "        self.eye_color = \"Brown\"\n",
    "        \n",
    "    def speak(self):\n",
    "        print(\"parent speaking\")\n",
    "        \n",
    "    def eat(self):\n",
    "        print(\"Eating fount\")\n",
    "\n",
    "class child(Parent):\n",
    "    pass\n",
    "\n"
   ]
  },
  {
   "cell_type": "code",
   "execution_count": 22,
   "metadata": {},
   "outputs": [
    {
     "name": "stdout",
     "output_type": "stream",
     "text": [
      "Cooking found\n",
      "None\n"
     ]
    }
   ],
   "source": [
    "class Father():\n",
    "    def __init__(self): #constructor:self is compulsory but will be ignored while calling\n",
    "        self.name = \"pn\"\n",
    "        self.eye_color = \"Brown\"\n",
    "        \n",
    "    def speak(self):\n",
    "        print(\"parent speaking\")\n",
    "        \n",
    "    def eat(self):\n",
    "        print(\"Eating found\")\n",
    "        \n",
    "class Mother():\n",
    "    def __init__(self):\n",
    "        self.id = 0\n",
    "        self.age = \"Brown\"\n",
    "        \n",
    "    def speak(self):\n",
    "        print(\"parent speaking\")\n",
    "        \n",
    "    def Cooking(self):\n",
    "        print(\"Cooking found\")\n",
    "\n",
    "class child(Father,Mother):\n",
    "    pass\n",
    "\n",
    "C1 = child()\n",
    "#print(C1.eat())\n",
    "print(C1.Cooking())\n",
    "#C1.eye_color"
   ]
  },
  {
   "cell_type": "code",
   "execution_count": 27,
   "metadata": {},
   "outputs": [
    {
     "data": {
      "text/plain": [
       "'Moin'"
      ]
     },
     "execution_count": 27,
     "metadata": {},
     "output_type": "execute_result"
    }
   ],
   "source": [
    "class Employees():\n",
    "    def __init__(self, id,name,salry): \n",
    "        self.id = id\n",
    "        self.name = name\n",
    "        self.salery = salry\n",
    "        \n",
    "class Developer(Employees):\n",
    "    def __init__(self,id,name,salry,destination):\n",
    "        super().__init__(id,name,salry)\n",
    "        self.designation = destination\n",
    "        \n",
    "d1= Developer(1,\"Moin\",45,\"Abc\")\n",
    "\n",
    "d1.name"
   ]
  },
  {
   "cell_type": "markdown",
   "metadata": {},
   "source": [
    "# Polymorphism\n",
    "Overloading"
   ]
  },
  {
   "cell_type": "code",
   "execution_count": 23,
   "metadata": {},
   "outputs": [
    {
     "name": "stdout",
     "output_type": "stream",
     "text": [
      "11\n",
      "7\n"
     ]
    }
   ],
   "source": [
    "class A():\n",
    "    def abc(self, *n):\n",
    "        print(sum(n))\n",
    "        \n",
    "obj1 = A()\n",
    "obj1.abc(1,2,3,5)\n",
    "obj1.abc(3,4)"
   ]
  },
  {
   "cell_type": "markdown",
   "metadata": {},
   "source": [
    "# Overriding"
   ]
  },
  {
   "cell_type": "code",
   "execution_count": 26,
   "metadata": {},
   "outputs": [
    {
     "name": "stdout",
     "output_type": "stream",
     "text": [
      "B2\n"
     ]
    }
   ],
   "source": [
    "class A():\n",
    "    def a1(self):print(\" a1\")\n",
    "    def a2(self):print(\"a2\")\n",
    "\n",
    "class B(A):\n",
    "    def a2(self):print(\"B2\")\n",
    "\n",
    "obj = B()\n",
    "obj.a2()"
   ]
  },
  {
   "cell_type": "code",
   "execution_count": null,
   "metadata": {},
   "outputs": [],
   "source": []
  }
 ],
 "metadata": {
  "kernelspec": {
   "display_name": "Python 3",
   "language": "python",
   "name": "python3"
  },
  "language_info": {
   "codemirror_mode": {
    "name": "ipython",
    "version": 3
   },
   "file_extension": ".py",
   "mimetype": "text/x-python",
   "name": "python",
   "nbconvert_exporter": "python",
   "pygments_lexer": "ipython3",
   "version": "3.7.4"
  }
 },
 "nbformat": 4,
 "nbformat_minor": 2
}
