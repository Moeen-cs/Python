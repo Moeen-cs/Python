{
 "cells": [
  {
   "cell_type": "code",
   "execution_count": 51,
   "metadata": {},
   "outputs": [
    {
     "name": "stdout",
     "output_type": "stream",
     "text": [
      "                I lOVe paKis tan                  I lOVe paKis tan \n"
     ]
    }
   ],
   "source": [
    "name= \"I lOVe paKis tan \"\n",
    "a= name.center(50);\n",
    "print(a+name)"
   ]
  },
  {
   "cell_type": "code",
   "execution_count": 16,
   "metadata": {},
   "outputs": [
    {
     "name": "stdout",
     "output_type": "stream",
     "text": [
      "I love pakistan\n"
     ]
    }
   ],
   "source": [
    "print(name.capitalize())"
   ]
  },
  {
   "cell_type": "code",
   "execution_count": 18,
   "metadata": {},
   "outputs": [
    {
     "name": "stdout",
     "output_type": "stream",
     "text": [
      "i love pakistan\n"
     ]
    }
   ],
   "source": [
    "print(name.casefold())"
   ]
  },
  {
   "cell_type": "code",
   "execution_count": 36,
   "metadata": {},
   "outputs": [
    {
     "name": "stdout",
     "output_type": "stream",
     "text": [
      "2\n"
     ]
    }
   ],
   "source": [
    "print(name.count(\"tan\"))"
   ]
  },
  {
   "cell_type": "code",
   "execution_count": 39,
   "metadata": {},
   "outputs": [
    {
     "name": "stdout",
     "output_type": "stream",
     "text": [
      "b'I lOVe tan paKis tan '\n"
     ]
    }
   ],
   "source": [
    "a = name.encode()\n",
    "print(a)"
   ]
  },
  {
   "cell_type": "code",
   "execution_count": 76,
   "metadata": {},
   "outputs": [
    {
     "name": "stdout",
     "output_type": "stream",
     "text": [
      "I                             Love                          Pakistan\n"
     ]
    }
   ],
   "source": [
    "str = \"I\\tLove\\tPakistan\"\n",
    "result = str.expandtabs(30)\n",
    "\n",
    "print(result)"
   ]
  },
  {
   "cell_type": "code",
   "execution_count": 62,
   "metadata": {},
   "outputs": [
    {
     "name": "stdout",
     "output_type": "stream",
     "text": [
      "True\n"
     ]
    }
   ],
   "source": [
    "print(name.endswith(\"an \"))"
   ]
  },
  {
   "cell_type": "code",
   "execution_count": 82,
   "metadata": {},
   "outputs": [
    {
     "name": "stdout",
     "output_type": "stream",
     "text": [
      "9\n"
     ]
    }
   ],
   "source": [
    "print(name.find(\"K\"))"
   ]
  },
  {
   "cell_type": "code",
   "execution_count": 91,
   "metadata": {},
   "outputs": [
    {
     "name": "stdout",
     "output_type": "stream",
     "text": [
      "\n",
      "name: moin\n",
      "marks: 10\n",
      "adress: lane 3, gullistan colony, Rawalpindi\n",
      "\n",
      "Adress : , xyz street, abc city, asd country sdfd  , dfsdf\n"
     ]
    }
   ],
   "source": [
    "name = \"moin\"\n",
    "marks = 10\n",
    "adress = \"lane 3, gullistan colony, Rawalpindi\"\n",
    "\n",
    "Data = \"\"\"\n",
    "name: {}\n",
    "marks: {}\n",
    "adress: {}\n",
    "\"\"\"\n",
    "print(Data.format(name,marks,adress))\n",
    "\n",
    "address = \"{}, xyz street, abc city, asd country {} , dfsdf\".format(\"Adress : \", \"sdfd \")\n",
    "print(address)"
   ]
  },
  {
   "cell_type": "code",
   "execution_count": 95,
   "metadata": {},
   "outputs": [
    {
     "name": "stdout",
     "output_type": "stream",
     "text": [
      "Moin's university is PIAIC\n"
     ]
    }
   ],
   "source": [
    "Data = {\"name\": \"Moin\", \"university\":\"PIAIC\"}\n",
    "\n",
    "print(\"{name}'s university is {university}\".format_map(Data))"
   ]
  },
  {
   "cell_type": "code",
   "execution_count": 108,
   "metadata": {},
   "outputs": [
    {
     "name": "stdout",
     "output_type": "stream",
     "text": [
      "\n",
      "7\n"
     ]
    }
   ],
   "source": [
    "massage = \"I Love Pa kistan\"\n",
    "submassage = massage.index(\"Pa\")\n",
    "print()\n",
    "submassage = massage.index(\"Pa\",4,9)\n",
    "print(submassage)"
   ]
  },
  {
   "cell_type": "code",
   "execution_count": null,
   "metadata": {},
   "outputs": [],
   "source": []
  }
 ],
 "metadata": {
  "kernelspec": {
   "display_name": "Python 3",
   "language": "python",
   "name": "python3"
  },
  "language_info": {
   "codemirror_mode": {
    "name": "ipython",
    "version": 3
   },
   "file_extension": ".py",
   "mimetype": "text/x-python",
   "name": "python",
   "nbconvert_exporter": "python",
   "pygments_lexer": "ipython3",
   "version": "3.7.4"
  }
 },
 "nbformat": 4,
 "nbformat_minor": 2
}
